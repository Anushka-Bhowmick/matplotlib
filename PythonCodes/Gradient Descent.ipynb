{
 "cells": [
  {
   "cell_type": "code",
   "execution_count": 12,
   "id": "0d169860",
   "metadata": {},
   "outputs": [],
   "source": [
    "class GDRegressor:\n",
    "    def __init__(self,lr=0.01,epochs=100):\n",
    "#       initializing m and b to none\n",
    "        self.coef=None\n",
    "        self.intercept=None\n",
    "        self.lr=lr\n",
    "        self.epochs=epochs\n",
    "        \n",
    "    def fit(self,X_train,Y_train):\n",
    "#       assuming all coeff values to 1 and intercept value to 0\n",
    "        self.coef=np.ones(X_train.shape[1])\n",
    "        self.intercept=0\n",
    "        \n",
    "#       for a particular range we update coeff and intercept value\n",
    "#       beta_new = beta_old - (lr*slope)\n",
    "        for i in range(self.epochs):\n",
    "            Y_hat= np.dot(X_train,self.coef)+self.intercept #  Y = mX + b\n",
    "            intercept_der=-2 * np.mean(Y_train-Y_hat) # (-2/n) * (sum) (Y- Y_pred)^2\n",
    "            self.intercept=self.intercept - (self.lr*intercept_der)\n",
    "            \n",
    "            coef_der=-2*np.dot((Y_train-Y_hat),X_train)/X_train.shape[0] # (-2) * ((sum) (Y- Y_pred)^2 * X )/ n\n",
    "            self.coef=self.coef - (self.lr*coef_der)\n",
    "            \n",
    "        print(self.intercept,self.coef)\n",
    "    def predict(self,X_test):\n",
    "        return np.dot(X_test,self.coef)+self.intercept #  Y = mX + b"
   ]
  },
  {
   "cell_type": "code",
   "execution_count": 13,
   "id": "c4a10b85",
   "metadata": {},
   "outputs": [],
   "source": [
    "gdr=GDRegressor(lr=0.5,epochs=1000)"
   ]
  },
  {
   "cell_type": "code",
   "execution_count": 14,
   "id": "f7da6e78",
   "metadata": {},
   "outputs": [
    {
     "name": "stdout",
     "output_type": "stream",
     "text": [
      "152.01351687661833 [  14.38990585 -173.7235727   491.54898524  323.91524824  -39.32648042\n",
      " -116.01061213 -194.04077415  103.38135565  451.63448787   97.57218278]\n"
     ]
    }
   ],
   "source": [
    "gdr.fit(X_train,Y_train)"
   ]
  },
  {
   "cell_type": "code",
   "execution_count": 15,
   "id": "23d6106e",
   "metadata": {},
   "outputs": [],
   "source": [
    "Y_pred=gdr.predict(X_test)"
   ]
  },
  {
   "cell_type": "code",
   "execution_count": 16,
   "id": "7bbd2d2a",
   "metadata": {},
   "outputs": [
    {
     "data": {
      "text/plain": [
       "0.4534503034722803"
      ]
     },
     "execution_count": 16,
     "metadata": {},
     "output_type": "execute_result"
    }
   ],
   "source": [
    "r2_score(Y_test,Y_pred)"
   ]
  },
  {
   "cell_type": "markdown",
   "id": "d103e2f7",
   "metadata": {},
   "source": [
    "# My Stochastic GD Regressor Class"
   ]
  },
  {
   "cell_type": "code",
   "execution_count": 17,
   "id": "568f56d3",
   "metadata": {},
   "outputs": [],
   "source": [
    "class SGDRegressor:\n",
    "#  in batch stochastic GD we update the value of m and b in every iteration for whole dataset but here we update for a random row input\n",
    "#  it is faster than Batch GD but not for same no of epochs\n",
    "    def __init__(self,lr=0.01,epochs=100):\n",
    "        self.coef=None\n",
    "        self.intercept=None\n",
    "        self.lr=lr\n",
    "        self.epochs=epochs\n",
    "        \n",
    "    def fit(self,X_train,Y_train):\n",
    "        self.coef=np.ones(X_train.shape[1])\n",
    "        self.intercept=0\n",
    "        \n",
    "        for i in range(self.epochs):\n",
    "            for j in range(X_train.shape[0]):\n",
    "                \n",
    "                ind=np.random.randint(0,X_train.shape[0]) # calculating a random row and same operations\n",
    "                Y_hat= np.dot(X_train[ind],self.coef)+self.intercept\n",
    "                intercept_der=-2 * np.mean(Y_train[ind]-Y_hat)\n",
    "                self.intercept=self.intercept - (self.lr*intercept_der)\n",
    "            \n",
    "                coef_der=-2*np.dot((Y_train[ind]-Y_hat),X_train[ind])\n",
    "                self.coef=self.coef - (self.lr*coef_der)\n",
    "            \n",
    "        print(self.intercept,self.coef)\n",
    "    def predict(self,X_test):\n",
    "        return np.dot(X_test,self.coef)+self.intercept"
   ]
  },
  {
   "cell_type": "code",
   "execution_count": 18,
   "id": "40474c54",
   "metadata": {},
   "outputs": [],
   "source": [
    "sgd=SGDRegressor(lr=0.01,epochs=40)"
   ]
  },
  {
   "cell_type": "code",
   "execution_count": 19,
   "id": "54be6f0f",
   "metadata": {},
   "outputs": [
    {
     "name": "stdout",
     "output_type": "stream",
     "text": [
      "149.58404296757186 [  65.56359888  -51.92474897  323.77361636  232.13948179   29.56421954\n",
      "   -8.72102505 -158.15816072  124.40472402  285.73784952  126.58066595]\n"
     ]
    }
   ],
   "source": [
    "sgd.fit(X_train,Y_train)"
   ]
  },
  {
   "cell_type": "code",
   "execution_count": 20,
   "id": "b4580cfd",
   "metadata": {},
   "outputs": [],
   "source": [
    "Y_pred=sgd.predict(X_test)"
   ]
  },
  {
   "cell_type": "code",
   "execution_count": 21,
   "id": "9fbf292a",
   "metadata": {},
   "outputs": [
    {
     "data": {
      "text/plain": [
       "0.42058282414502135"
      ]
     },
     "execution_count": 21,
     "metadata": {},
     "output_type": "execute_result"
    }
   ],
   "source": [
    "r2_score(Y_test,Y_pred)"
   ]
  },
  {
   "cell_type": "markdown",
   "id": "64a95f89",
   "metadata": {},
   "source": [
    "# My MiniBatch GD Regressor Class"
   ]
  },
  {
   "cell_type": "code",
   "execution_count": 22,
   "id": "27e76a2c",
   "metadata": {},
   "outputs": [],
   "source": [
    "import random\n",
    "\n",
    "#  here we divide whole dataset into certain batch and then update batch wise\n",
    "class MGDRegressor:\n",
    "    def __init__(self,batch_size,lr=0.01,epochs=100):\n",
    "        self.coef=None\n",
    "        self.intercept=None\n",
    "        self.lr=lr\n",
    "        self.epochs=epochs\n",
    "        self.batch_size=batch_size\n",
    "        \n",
    "    def fit(self,X_train,Y_train):\n",
    "        self.coef=np.ones(X_train.shape[1])\n",
    "        self.intercept=0\n",
    "        \n",
    "        for i in range(self.epochs):\n",
    "            for j in range(int(X_train.shape[0]/self.batch_size)):\n",
    "                \n",
    "                ind=random.sample(range(X_train.shape[0]),self.batch_size)\n",
    "                Y_hat= np.dot(X_train[ind],self.coef)+self.intercept\n",
    "                intercept_der=-2 * np.mean(Y_train[ind]-Y_hat)\n",
    "                self.intercept=self.intercept - (self.lr*intercept_der)\n",
    "            \n",
    "                coef_der=-2*np.dot((Y_train[ind]-Y_hat),X_train[ind])\n",
    "                self.coef=self.coef - (self.lr*coef_der)\n",
    "            \n",
    "        print(self.intercept,self.coef)\n",
    "    def predict(self,X_test):\n",
    "        return np.dot(X_test,self.coef)+self.intercept"
   ]
  },
  {
   "cell_type": "code",
   "execution_count": 23,
   "id": "ca2af5c5",
   "metadata": {},
   "outputs": [],
   "source": [
    "mgd=MGDRegressor(batch_size=int(X_train.shape[0]/50),lr=0.01,epochs=100)"
   ]
  },
  {
   "cell_type": "code",
   "execution_count": 24,
   "id": "18f0270d",
   "metadata": {},
   "outputs": [
    {
     "name": "stdout",
     "output_type": "stream",
     "text": [
      "150.79569678313376 [  25.18729286 -132.29794932  452.81830601  301.15095907  -28.67216565\n",
      "  -94.83105107 -197.29760482  116.55746024  407.71959096  117.01195885]\n"
     ]
    }
   ],
   "source": [
    "mgd.fit(X_train,Y_train)"
   ]
  },
  {
   "cell_type": "code",
   "execution_count": 25,
   "id": "c79d7be9",
   "metadata": {},
   "outputs": [],
   "source": [
    "Y_pred=mgd.predict(X_test)"
   ]
  },
  {
   "cell_type": "code",
   "execution_count": 26,
   "id": "a1a707ab",
   "metadata": {},
   "outputs": [
    {
     "data": {
      "text/plain": [
       "0.45299646698279117"
      ]
     },
     "execution_count": 26,
     "metadata": {},
     "output_type": "execute_result"
    }
   ],
   "source": [
    "r2_score(Y_test,Y_pred)"
   ]
  }
 ],
 "metadata": {
  "kernelspec": {
   "display_name": "Python 3 (ipykernel)",
   "language": "python",
   "name": "python3"
  },
  "language_info": {
   "codemirror_mode": {
    "name": "ipython",
    "version": 3
   },
   "file_extension": ".py",
   "mimetype": "text/x-python",
   "name": "python",
   "nbconvert_exporter": "python",
   "pygments_lexer": "ipython3",
   "version": "3.10.5"
  }
 },
 "nbformat": 4,
 "nbformat_minor": 5
}
